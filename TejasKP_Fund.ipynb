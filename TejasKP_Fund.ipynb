{
 "cells": [
  {
   "cell_type": "markdown",
   "metadata": {
    "id": "sXJ6qKg4vziG"
   },
   "source": [
    "# SUYASH PRATAP SINGH "
   ]
  },
  {
   "cell_type": "markdown",
   "metadata": {
    "id": "T9XNAQApvziI"
   },
   "source": [
    "# TASKS:-\n",
    "A Tejas Pandey reserve has 25 individuals. Every month they contribute Rs 2000 each. Month's end, the individual who offers the most reduced for the corpus, gets his offer. The gathering coordinator sorts paid an out commission of Rs 2500 every month (5% of 25*2000). It is deducted from the offer champ's corpus. The leftover sum is dispersed among all the 25 clients similarly."
   ]
  },
  {
   "cell_type": "code",
   "execution_count": 1,
   "metadata": {
    "id": "VU3MItsRvziJ"
   },
   "outputs": [],
   "source": [
    "import pandas as pd\n",
    "import numpy as np\n",
    "import matplotlib.pyplot as plt\n",
    "import seaborn as sns\n",
    "%matplotlib inline                                 "
   ]
  },
  {
   "cell_type": "code",
   "execution_count": 2,
   "metadata": {
    "id": "lLfKb1nCvziK",
    "outputId": "a1579178-8119-4a2e-e6ac-e900eb0b6b55"
   },
   "outputs": [
    {
     "data": {
      "text/html": [
       "<div>\n",
       "<style scoped>\n",
       "    .dataframe tbody tr th:only-of-type {\n",
       "        vertical-align: middle;\n",
       "    }\n",
       "\n",
       "    .dataframe tbody tr th {\n",
       "        vertical-align: top;\n",
       "    }\n",
       "\n",
       "    .dataframe thead th {\n",
       "        text-align: right;\n",
       "    }\n",
       "</style>\n",
       "<table border=\"1\" class=\"dataframe\">\n",
       "  <thead>\n",
       "    <tr style=\"text-align: right;\">\n",
       "      <th></th>\n",
       "      <th>Month</th>\n",
       "      <th>Contribution</th>\n",
       "      <th>Amount won by the bidder</th>\n",
       "      <th>Chit fund organizer commission</th>\n",
       "      <th>Net amount recd by Bid winner</th>\n",
       "      <th>Amount returned to everyone in the group</th>\n",
       "    </tr>\n",
       "  </thead>\n",
       "  <tbody>\n",
       "    <tr>\n",
       "      <th>0</th>\n",
       "      <td>1</td>\n",
       "      <td>2000</td>\n",
       "      <td>40000</td>\n",
       "      <td>2500</td>\n",
       "      <td>37500</td>\n",
       "      <td>400</td>\n",
       "    </tr>\n",
       "    <tr>\n",
       "      <th>1</th>\n",
       "      <td>2</td>\n",
       "      <td>2000</td>\n",
       "      <td>42000</td>\n",
       "      <td>2500</td>\n",
       "      <td>39500</td>\n",
       "      <td>320</td>\n",
       "    </tr>\n",
       "    <tr>\n",
       "      <th>2</th>\n",
       "      <td>3</td>\n",
       "      <td>2000</td>\n",
       "      <td>45000</td>\n",
       "      <td>2500</td>\n",
       "      <td>42500</td>\n",
       "      <td>200</td>\n",
       "    </tr>\n",
       "    <tr>\n",
       "      <th>3</th>\n",
       "      <td>4</td>\n",
       "      <td>2000</td>\n",
       "      <td>48000</td>\n",
       "      <td>2500</td>\n",
       "      <td>45500</td>\n",
       "      <td>80</td>\n",
       "    </tr>\n",
       "    <tr>\n",
       "      <th>4</th>\n",
       "      <td>5</td>\n",
       "      <td>2000</td>\n",
       "      <td>40000</td>\n",
       "      <td>2500</td>\n",
       "      <td>37500</td>\n",
       "      <td>400</td>\n",
       "    </tr>\n",
       "  </tbody>\n",
       "</table>\n",
       "</div>"
      ],
      "text/plain": [
       "   Month  Contribution  Amount won by the bidder  \\\n",
       "0      1          2000                     40000   \n",
       "1      2          2000                     42000   \n",
       "2      3          2000                     45000   \n",
       "3      4          2000                     48000   \n",
       "4      5          2000                     40000   \n",
       "\n",
       "   Chit fund organizer commission  Net amount recd by Bid winner  \\\n",
       "0                            2500                          37500   \n",
       "1                            2500                          39500   \n",
       "2                            2500                          42500   \n",
       "3                            2500                          45500   \n",
       "4                            2500                          37500   \n",
       "\n",
       "   Amount returned to everyone in the group  \n",
       "0                                       400  \n",
       "1                                       320  \n",
       "2                                       200  \n",
       "3                                        80  \n",
       "4                                       400  "
      ]
     },
     "execution_count": 2,
     "metadata": {},
     "output_type": "execute_result"
    }
   ],
   "source": [
    "df=pd.read_csv(r'C:\\Users\\Admin\\Downloads\\Exercise.csv')\n",
    "df.head()"
   ]
  },
  {
   "cell_type": "code",
   "execution_count": 3,
   "metadata": {},
   "outputs": [
    {
     "data": {
      "text/html": [
       "<div>\n",
       "<style scoped>\n",
       "    .dataframe tbody tr th:only-of-type {\n",
       "        vertical-align: middle;\n",
       "    }\n",
       "\n",
       "    .dataframe tbody tr th {\n",
       "        vertical-align: top;\n",
       "    }\n",
       "\n",
       "    .dataframe thead th {\n",
       "        text-align: right;\n",
       "    }\n",
       "</style>\n",
       "<table border=\"1\" class=\"dataframe\">\n",
       "  <thead>\n",
       "    <tr style=\"text-align: right;\">\n",
       "      <th></th>\n",
       "      <th>Month</th>\n",
       "      <th>Contribution</th>\n",
       "      <th>Amount won by the bidder</th>\n",
       "      <th>Chit fund organizer commission</th>\n",
       "      <th>Net amount recd by Bid winner</th>\n",
       "      <th>Amount returned to everyone in the group</th>\n",
       "    </tr>\n",
       "  </thead>\n",
       "  <tbody>\n",
       "    <tr>\n",
       "      <th>8</th>\n",
       "      <td>9</td>\n",
       "      <td>2000</td>\n",
       "      <td>40000</td>\n",
       "      <td>2500</td>\n",
       "      <td>37500</td>\n",
       "      <td>400</td>\n",
       "    </tr>\n",
       "    <tr>\n",
       "      <th>24</th>\n",
       "      <td>25</td>\n",
       "      <td>2000</td>\n",
       "      <td>50000</td>\n",
       "      <td>2500</td>\n",
       "      <td>47500</td>\n",
       "      <td>0</td>\n",
       "    </tr>\n",
       "    <tr>\n",
       "      <th>4</th>\n",
       "      <td>5</td>\n",
       "      <td>2000</td>\n",
       "      <td>40000</td>\n",
       "      <td>2500</td>\n",
       "      <td>37500</td>\n",
       "      <td>400</td>\n",
       "    </tr>\n",
       "    <tr>\n",
       "      <th>9</th>\n",
       "      <td>10</td>\n",
       "      <td>2000</td>\n",
       "      <td>42000</td>\n",
       "      <td>2500</td>\n",
       "      <td>39500</td>\n",
       "      <td>320</td>\n",
       "    </tr>\n",
       "    <tr>\n",
       "      <th>20</th>\n",
       "      <td>21</td>\n",
       "      <td>2000</td>\n",
       "      <td>44000</td>\n",
       "      <td>2500</td>\n",
       "      <td>41500</td>\n",
       "      <td>240</td>\n",
       "    </tr>\n",
       "    <tr>\n",
       "      <th>7</th>\n",
       "      <td>8</td>\n",
       "      <td>2000</td>\n",
       "      <td>44000</td>\n",
       "      <td>2500</td>\n",
       "      <td>41500</td>\n",
       "      <td>240</td>\n",
       "    </tr>\n",
       "    <tr>\n",
       "      <th>14</th>\n",
       "      <td>15</td>\n",
       "      <td>2000</td>\n",
       "      <td>43000</td>\n",
       "      <td>2500</td>\n",
       "      <td>40500</td>\n",
       "      <td>280</td>\n",
       "    </tr>\n",
       "  </tbody>\n",
       "</table>\n",
       "</div>"
      ],
      "text/plain": [
       "    Month  Contribution  Amount won by the bidder  \\\n",
       "8       9          2000                     40000   \n",
       "24     25          2000                     50000   \n",
       "4       5          2000                     40000   \n",
       "9      10          2000                     42000   \n",
       "20     21          2000                     44000   \n",
       "7       8          2000                     44000   \n",
       "14     15          2000                     43000   \n",
       "\n",
       "    Chit fund organizer commission  Net amount recd by Bid winner  \\\n",
       "8                             2500                          37500   \n",
       "24                            2500                          47500   \n",
       "4                             2500                          37500   \n",
       "9                             2500                          39500   \n",
       "20                            2500                          41500   \n",
       "7                             2500                          41500   \n",
       "14                            2500                          40500   \n",
       "\n",
       "    Amount returned to everyone in the group  \n",
       "8                                        400  \n",
       "24                                         0  \n",
       "4                                        400  \n",
       "9                                        320  \n",
       "20                                       240  \n",
       "7                                        240  \n",
       "14                                       280  "
      ]
     },
     "execution_count": 3,
     "metadata": {},
     "output_type": "execute_result"
    }
   ],
   "source": [
    "df.sample(7)"
   ]
  },
  {
   "cell_type": "code",
   "execution_count": 4,
   "metadata": {},
   "outputs": [
    {
     "data": {
      "text/plain": [
       "Month                                       0\n",
       "Contribution                                0\n",
       "Amount won by the bidder                    0\n",
       "Chit fund organizer commission              0\n",
       "Net amount recd by Bid winner               0\n",
       "Amount returned to everyone in the group    0\n",
       "dtype: int64"
      ]
     },
     "execution_count": 4,
     "metadata": {},
     "output_type": "execute_result"
    }
   ],
   "source": [
    "# look for missing values\n",
    "df.isnull().sum()"
   ]
  },
  {
   "cell_type": "code",
   "execution_count": 5,
   "metadata": {},
   "outputs": [
    {
     "data": {
      "text/html": [
       "<div>\n",
       "<style scoped>\n",
       "    .dataframe tbody tr th:only-of-type {\n",
       "        vertical-align: middle;\n",
       "    }\n",
       "\n",
       "    .dataframe tbody tr th {\n",
       "        vertical-align: top;\n",
       "    }\n",
       "\n",
       "    .dataframe thead th {\n",
       "        text-align: right;\n",
       "    }\n",
       "</style>\n",
       "<table border=\"1\" class=\"dataframe\">\n",
       "  <thead>\n",
       "    <tr style=\"text-align: right;\">\n",
       "      <th></th>\n",
       "      <th>Month</th>\n",
       "      <th>Contribution</th>\n",
       "      <th>Amount won by the bidder</th>\n",
       "      <th>Chit fund organizer commission</th>\n",
       "      <th>Net amount recd by Bid winner</th>\n",
       "      <th>Amount returned to everyone in the group</th>\n",
       "    </tr>\n",
       "  </thead>\n",
       "  <tbody>\n",
       "    <tr>\n",
       "      <th>count</th>\n",
       "      <td>25.000000</td>\n",
       "      <td>25.0</td>\n",
       "      <td>25.000000</td>\n",
       "      <td>25.0</td>\n",
       "      <td>25.000000</td>\n",
       "      <td>25.000000</td>\n",
       "    </tr>\n",
       "    <tr>\n",
       "      <th>mean</th>\n",
       "      <td>13.000000</td>\n",
       "      <td>2000.0</td>\n",
       "      <td>43800.000000</td>\n",
       "      <td>2500.0</td>\n",
       "      <td>41300.000000</td>\n",
       "      <td>248.000000</td>\n",
       "    </tr>\n",
       "    <tr>\n",
       "      <th>std</th>\n",
       "      <td>7.359801</td>\n",
       "      <td>0.0</td>\n",
       "      <td>2857.738033</td>\n",
       "      <td>0.0</td>\n",
       "      <td>2857.738033</td>\n",
       "      <td>114.309521</td>\n",
       "    </tr>\n",
       "    <tr>\n",
       "      <th>min</th>\n",
       "      <td>1.000000</td>\n",
       "      <td>2000.0</td>\n",
       "      <td>40000.000000</td>\n",
       "      <td>2500.0</td>\n",
       "      <td>37500.000000</td>\n",
       "      <td>0.000000</td>\n",
       "    </tr>\n",
       "    <tr>\n",
       "      <th>25%</th>\n",
       "      <td>7.000000</td>\n",
       "      <td>2000.0</td>\n",
       "      <td>42000.000000</td>\n",
       "      <td>2500.0</td>\n",
       "      <td>39500.000000</td>\n",
       "      <td>200.000000</td>\n",
       "    </tr>\n",
       "    <tr>\n",
       "      <th>50%</th>\n",
       "      <td>13.000000</td>\n",
       "      <td>2000.0</td>\n",
       "      <td>43000.000000</td>\n",
       "      <td>2500.0</td>\n",
       "      <td>40500.000000</td>\n",
       "      <td>280.000000</td>\n",
       "    </tr>\n",
       "    <tr>\n",
       "      <th>75%</th>\n",
       "      <td>19.000000</td>\n",
       "      <td>2000.0</td>\n",
       "      <td>45000.000000</td>\n",
       "      <td>2500.0</td>\n",
       "      <td>42500.000000</td>\n",
       "      <td>320.000000</td>\n",
       "    </tr>\n",
       "    <tr>\n",
       "      <th>max</th>\n",
       "      <td>25.000000</td>\n",
       "      <td>2000.0</td>\n",
       "      <td>50000.000000</td>\n",
       "      <td>2500.0</td>\n",
       "      <td>47500.000000</td>\n",
       "      <td>400.000000</td>\n",
       "    </tr>\n",
       "  </tbody>\n",
       "</table>\n",
       "</div>"
      ],
      "text/plain": [
       "           Month  Contribution  Amount won by the bidder  \\\n",
       "count  25.000000          25.0                 25.000000   \n",
       "mean   13.000000        2000.0              43800.000000   \n",
       "std     7.359801           0.0               2857.738033   \n",
       "min     1.000000        2000.0              40000.000000   \n",
       "25%     7.000000        2000.0              42000.000000   \n",
       "50%    13.000000        2000.0              43000.000000   \n",
       "75%    19.000000        2000.0              45000.000000   \n",
       "max    25.000000        2000.0              50000.000000   \n",
       "\n",
       "       Chit fund organizer commission  Net amount recd by Bid winner  \\\n",
       "count                            25.0                      25.000000   \n",
       "mean                           2500.0                   41300.000000   \n",
       "std                               0.0                    2857.738033   \n",
       "min                            2500.0                   37500.000000   \n",
       "25%                            2500.0                   39500.000000   \n",
       "50%                            2500.0                   40500.000000   \n",
       "75%                            2500.0                   42500.000000   \n",
       "max                            2500.0                   47500.000000   \n",
       "\n",
       "       Amount returned to everyone in the group  \n",
       "count                                 25.000000  \n",
       "mean                                 248.000000  \n",
       "std                                  114.309521  \n",
       "min                                    0.000000  \n",
       "25%                                  200.000000  \n",
       "50%                                  280.000000  \n",
       "75%                                  320.000000  \n",
       "max                                  400.000000  "
      ]
     },
     "execution_count": 5,
     "metadata": {},
     "output_type": "execute_result"
    }
   ],
   "source": [
    "df.describe()"
   ]
  },
  {
   "cell_type": "code",
   "execution_count": 6,
   "metadata": {},
   "outputs": [
    {
     "name": "stdout",
     "output_type": "stream",
     "text": [
      "<class 'pandas.core.frame.DataFrame'>\n",
      "RangeIndex: 25 entries, 0 to 24\n",
      "Data columns (total 6 columns):\n",
      " #   Column                                    Non-Null Count  Dtype\n",
      "---  ------                                    --------------  -----\n",
      " 0   Month                                     25 non-null     int64\n",
      " 1   Contribution                              25 non-null     int64\n",
      " 2   Amount won by the bidder                  25 non-null     int64\n",
      " 3   Chit fund organizer commission            25 non-null     int64\n",
      " 4   Net amount recd by Bid winner             25 non-null     int64\n",
      " 5   Amount returned to everyone in the group  25 non-null     int64\n",
      "dtypes: int64(6)\n",
      "memory usage: 1.3 KB\n"
     ]
    }
   ],
   "source": [
    "df.info()"
   ]
  },
  {
   "cell_type": "code",
   "execution_count": 7,
   "metadata": {},
   "outputs": [
    {
     "data": {
      "text/plain": [
       "(25, 6)"
      ]
     },
     "execution_count": 7,
     "metadata": {},
     "output_type": "execute_result"
    }
   ],
   "source": [
    "df.shape"
   ]
  },
  {
   "cell_type": "code",
   "execution_count": 9,
   "metadata": {
    "scrolled": true
   },
   "outputs": [
    {
     "data": {
      "text/plain": [
       "Index(['Month', 'Contribution', 'Amount won by the bidder',\n",
       "       'Chit fund organizer commission', 'Net amount recd by Bid winner',\n",
       "       'Amount returned to everyone in the group'],\n",
       "      dtype='object')"
      ]
     },
     "execution_count": 9,
     "metadata": {},
     "output_type": "execute_result"
    }
   ],
   "source": [
    "df.columns"
   ]
  },
  {
   "cell_type": "code",
   "execution_count": 10,
   "metadata": {},
   "outputs": [
    {
     "data": {
      "text/plain": [
       "array([[<AxesSubplot:title={'center':'Amount returned to everyone in the group'}>,\n",
       "        <AxesSubplot:title={'center':'Amount won by the bidder'}>],\n",
       "       [<AxesSubplot:title={'center':'Chit fund organizer commission'}>,\n",
       "        <AxesSubplot:title={'center':'Contribution'}>],\n",
       "       [<AxesSubplot:title={'center':'Month'}>,\n",
       "        <AxesSubplot:title={'center':'Net amount recd by Bid winner'}>]],\n",
       "      dtype=object)"
      ]
     },
     "execution_count": 10,
     "metadata": {},
     "output_type": "execute_result"
    },
    {
     "data": {
      "image/png": "[encoded data removed]",
      "text/plain": [
       "<Figure size 432x288 with 6 Axes>"
      ]
     },
     "metadata": {
      "needs_background": "light"
     },
     "output_type": "display_data"
    }
   ],
   "source": [
    "df.hist()"
   ]
  },
  {
   "cell_type": "code",
   "execution_count": 11,
   "metadata": {},
   "outputs": [
    {
     "data": {
      "text/html": [
       "<div>\n",
       "<style scoped>\n",
       "    .dataframe tbody tr th:only-of-type {\n",
       "        vertical-align: middle;\n",
       "    }\n",
       "\n",
       "    .dataframe tbody tr th {\n",
       "        vertical-align: top;\n",
       "    }\n",
       "\n",
       "    .dataframe thead th {\n",
       "        text-align: right;\n",
       "    }\n",
       "</style>\n",
       "<table border=\"1\" class=\"dataframe\">\n",
       "  <thead>\n",
       "    <tr style=\"text-align: right;\">\n",
       "      <th></th>\n",
       "      <th>Month</th>\n",
       "      <th>Contribution</th>\n",
       "      <th>Amount won by the bidder</th>\n",
       "      <th>Chit fund organizer commission</th>\n",
       "      <th>Net amount recd by Bid winner</th>\n",
       "      <th>Amount returned to everyone in the group</th>\n",
       "    </tr>\n",
       "  </thead>\n",
       "  <tbody>\n",
       "    <tr>\n",
       "      <th>Month</th>\n",
       "      <td>1.000000</td>\n",
       "      <td>NaN</td>\n",
       "      <td>0.475457</td>\n",
       "      <td>NaN</td>\n",
       "      <td>0.475457</td>\n",
       "      <td>-0.475457</td>\n",
       "    </tr>\n",
       "    <tr>\n",
       "      <th>Contribution</th>\n",
       "      <td>NaN</td>\n",
       "      <td>NaN</td>\n",
       "      <td>NaN</td>\n",
       "      <td>NaN</td>\n",
       "      <td>NaN</td>\n",
       "      <td>NaN</td>\n",
       "    </tr>\n",
       "    <tr>\n",
       "      <th>Amount won by the bidder</th>\n",
       "      <td>0.475457</td>\n",
       "      <td>NaN</td>\n",
       "      <td>1.000000</td>\n",
       "      <td>NaN</td>\n",
       "      <td>1.000000</td>\n",
       "      <td>-1.000000</td>\n",
       "    </tr>\n",
       "    <tr>\n",
       "      <th>Chit fund organizer commission</th>\n",
       "      <td>NaN</td>\n",
       "      <td>NaN</td>\n",
       "      <td>NaN</td>\n",
       "      <td>NaN</td>\n",
       "      <td>NaN</td>\n",
       "      <td>NaN</td>\n",
       "    </tr>\n",
       "    <tr>\n",
       "      <th>Net amount recd by Bid winner</th>\n",
       "      <td>0.475457</td>\n",
       "      <td>NaN</td>\n",
       "      <td>1.000000</td>\n",
       "      <td>NaN</td>\n",
       "      <td>1.000000</td>\n",
       "      <td>-1.000000</td>\n",
       "    </tr>\n",
       "    <tr>\n",
       "      <th>Amount returned to everyone in the group</th>\n",
       "      <td>-0.475457</td>\n",
       "      <td>NaN</td>\n",
       "      <td>-1.000000</td>\n",
       "      <td>NaN</td>\n",
       "      <td>-1.000000</td>\n",
       "      <td>1.000000</td>\n",
       "    </tr>\n",
       "  </tbody>\n",
       "</table>\n",
       "</div>"
      ],
      "text/plain": [
       "                                             Month  Contribution  \\\n",
       "Month                                     1.000000           NaN   \n",
       "Contribution                                   NaN           NaN   \n",
       "Amount won by the bidder                  0.475457           NaN   \n",
       "Chit fund organizer commission                 NaN           NaN   \n",
       "Net amount recd by Bid winner             0.475457           NaN   \n",
       "Amount returned to everyone in the group -0.475457           NaN   \n",
       "\n",
       "                                          Amount won by the bidder  \\\n",
       "Month                                                     0.475457   \n",
       "Contribution                                                   NaN   \n",
       "Amount won by the bidder                                  1.000000   \n",
       "Chit fund organizer commission                                 NaN   \n",
       "Net amount recd by Bid winner                             1.000000   \n",
       "Amount returned to everyone in the group                 -1.000000   \n",
       "\n",
       "                                          Chit fund organizer commission  \\\n",
       "Month                                                                NaN   \n",
       "Contribution                                                         NaN   \n",
       "Amount won by the bidder                                             NaN   \n",
       "Chit fund organizer commission                                       NaN   \n",
       "Net amount recd by Bid winner                                        NaN   \n",
       "Amount returned to everyone in the group                             NaN   \n",
       "\n",
       "                                          Net amount recd by Bid winner  \\\n",
       "Month                                                          0.475457   \n",
       "Contribution                                                        NaN   \n",
       "Amount won by the bidder                                       1.000000   \n",
       "Chit fund organizer commission                                      NaN   \n",
       "Net amount recd by Bid winner                                  1.000000   \n",
       "Amount returned to everyone in the group                      -1.000000   \n",
       "\n",
       "                                          Amount returned to everyone in the group  \n",
       "Month                                                                    -0.475457  \n",
       "Contribution                                                                   NaN  \n",
       "Amount won by the bidder                                                 -1.000000  \n",
       "Chit fund organizer commission                                                 NaN  \n",
       "Net amount recd by Bid winner                                            -1.000000  \n",
       "Amount returned to everyone in the group                                  1.000000  "
      ]
     },
     "execution_count": 11,
     "metadata": {},
     "output_type": "execute_result"
    }
   ],
   "source": [
    "teju = df.corr()\n",
    "teju"
   ]
  },
  {
   "cell_type": "code",
   "execution_count": 12,
   "metadata": {},
   "outputs": [
    {
     "data": {
      "text/plain": [
       "<AxesSubplot:>"
      ]
     },
     "execution_count": 12,
     "metadata": {},
     "output_type": "execute_result"
    },
    {
     "data": {
      "image/png": "[encoded data removed]",
      "text/plain": [
       "<Figure size 432x288 with 2 Axes>"
      ]
     },
     "metadata": {
      "needs_background": "light"
     },
     "output_type": "display_data"
    }
   ],
   "source": [
    "sns.heatmap(teju,annot=True)"
   ]
  },
  {
   "cell_type": "code",
   "execution_count": 13,
   "metadata": {},
   "outputs": [
    {
     "data": {
      "image/png": "[encoded data removed]",
      "text/plain": [
       "<Figure size 720x432 with 2 Axes>"
      ]
     },
     "metadata": {
      "needs_background": "light"
     },
     "output_type": "display_data"
    }
   ],
   "source": [
    "plt.figure(figsize=(10,6))\n",
    "plt.title('Correlation')\n",
    "sns.heatmap(teju,annot=True,cmap='viridis',linecolor='red')\n",
    "plt.xticks(rotation=90)\n",
    "plt.yticks(rotation=90)\n",
    "plt.show()"
   ]
  },
  {
   "cell_type": "code",
   "execution_count": 14,
   "metadata": {},
   "outputs": [
    {
     "data": {
      "text/html": [
       "<div>\n",
       "<style scoped>\n",
       "    .dataframe tbody tr th:only-of-type {\n",
       "        vertical-align: middle;\n",
       "    }\n",
       "\n",
       "    .dataframe tbody tr th {\n",
       "        vertical-align: top;\n",
       "    }\n",
       "\n",
       "    .dataframe thead th {\n",
       "        text-align: right;\n",
       "    }\n",
       "</style>\n",
       "<table border=\"1\" class=\"dataframe\">\n",
       "  <thead>\n",
       "    <tr style=\"text-align: right;\">\n",
       "      <th></th>\n",
       "      <th>Month</th>\n",
       "      <th>Contribution</th>\n",
       "      <th>Amount won by the bidder</th>\n",
       "      <th>Chit fund organizer commission</th>\n",
       "      <th>Net amount recd by Bid winner</th>\n",
       "      <th>Amount returned to everyone in the group</th>\n",
       "    </tr>\n",
       "  </thead>\n",
       "  <tbody>\n",
       "    <tr>\n",
       "      <th>0</th>\n",
       "      <td>1</td>\n",
       "      <td>2000</td>\n",
       "      <td>40000</td>\n",
       "      <td>2500</td>\n",
       "      <td>37500</td>\n",
       "      <td>400</td>\n",
       "    </tr>\n",
       "  </tbody>\n",
       "</table>\n",
       "</div>"
      ],
      "text/plain": [
       "   Month  Contribution  Amount won by the bidder  \\\n",
       "0      1          2000                     40000   \n",
       "\n",
       "   Chit fund organizer commission  Net amount recd by Bid winner  \\\n",
       "0                            2500                          37500   \n",
       "\n",
       "   Amount returned to everyone in the group  \n",
       "0                                       400  "
      ]
     },
     "execution_count": 14,
     "metadata": {},
     "output_type": "execute_result"
    }
   ],
   "source": [
    "df.head(1)"
   ]
  },
  {
   "cell_type": "code",
   "execution_count": 22,
   "metadata": {},
   "outputs": [
    {
     "data": {
      "image/png": "[encoded data removed]",
      "text/plain": [
       "<Figure size 720x576 with 1 Axes>"
      ]
     },
     "metadata": {
      "needs_background": "light"
     },
     "output_type": "display_data"
    }
   ],
   "source": [
    "plt.figure(figsize=(10, 8))\n",
    "plt.scatter(df['Net amount recd by Bid winner'], df['Contribution'])\n",
    "plt.xlabel(\"Month\", fontsize=16)\n",
    "plt.ylabel(\"Contribution\", fontsize=16)\n",
    "plt.show()"
   ]
  },
  {
   "cell_type": "code",
   "execution_count": 23,
   "metadata": {
    "id": "yqucXyYHvziK"
   },
   "outputs": [],
   "source": [
    "tejuamt = np.array(df['Net amount recd by Bid winner'])\n",
    "monthly_come = np.array(df['Amount returned to everyone in the group'])\n",
    "total_amount=tejuamt+monthly_come"
   ]
  },
  {
   "cell_type": "code",
   "execution_count": 24,
   "metadata": {
    "id": "sp_c2B5svziK"
   },
   "outputs": [],
   "source": [
    "df['Total Amount']=total_amount"
   ]
  },
  {
   "cell_type": "code",
   "execution_count": 25,
   "metadata": {
    "id": "ZAJTGkTpvziL",
    "outputId": "66529880-a41c-448d-9fde-68fe13d5622f"
   },
   "outputs": [
    {
     "data": {
      "text/html": [
       "<div>\n",
       "<style scoped>\n",
       "    .dataframe tbody tr th:only-of-type {\n",
       "        vertical-align: middle;\n",
       "    }\n",
       "\n",
       "    .dataframe tbody tr th {\n",
       "        vertical-align: top;\n",
       "    }\n",
       "\n",
       "    .dataframe thead th {\n",
       "        text-align: right;\n",
       "    }\n",
       "</style>\n",
       "<table border=\"1\" class=\"dataframe\">\n",
       "  <thead>\n",
       "    <tr style=\"text-align: right;\">\n",
       "      <th></th>\n",
       "      <th>Month</th>\n",
       "      <th>Contribution</th>\n",
       "      <th>Amount won by the bidder</th>\n",
       "      <th>Chit fund organizer commission</th>\n",
       "      <th>Net amount recd by Bid winner</th>\n",
       "      <th>Amount returned to everyone in the group</th>\n",
       "      <th>Total Amount</th>\n",
       "    </tr>\n",
       "  </thead>\n",
       "  <tbody>\n",
       "    <tr>\n",
       "      <th>0</th>\n",
       "      <td>1</td>\n",
       "      <td>2000</td>\n",
       "      <td>40000</td>\n",
       "      <td>2500</td>\n",
       "      <td>37500</td>\n",
       "      <td>400</td>\n",
       "      <td>37900</td>\n",
       "    </tr>\n",
       "    <tr>\n",
       "      <th>1</th>\n",
       "      <td>2</td>\n",
       "      <td>2000</td>\n",
       "      <td>42000</td>\n",
       "      <td>2500</td>\n",
       "      <td>39500</td>\n",
       "      <td>320</td>\n",
       "      <td>39820</td>\n",
       "    </tr>\n",
       "    <tr>\n",
       "      <th>2</th>\n",
       "      <td>3</td>\n",
       "      <td>2000</td>\n",
       "      <td>45000</td>\n",
       "      <td>2500</td>\n",
       "      <td>42500</td>\n",
       "      <td>200</td>\n",
       "      <td>42700</td>\n",
       "    </tr>\n",
       "    <tr>\n",
       "      <th>3</th>\n",
       "      <td>4</td>\n",
       "      <td>2000</td>\n",
       "      <td>48000</td>\n",
       "      <td>2500</td>\n",
       "      <td>45500</td>\n",
       "      <td>80</td>\n",
       "      <td>45580</td>\n",
       "    </tr>\n",
       "    <tr>\n",
       "      <th>4</th>\n",
       "      <td>5</td>\n",
       "      <td>2000</td>\n",
       "      <td>40000</td>\n",
       "      <td>2500</td>\n",
       "      <td>37500</td>\n",
       "      <td>400</td>\n",
       "      <td>37900</td>\n",
       "    </tr>\n",
       "  </tbody>\n",
       "</table>\n",
       "</div>"
      ],
      "text/plain": [
       "   Month  Contribution  Amount won by the bidder  \\\n",
       "0      1          2000                     40000   \n",
       "1      2          2000                     42000   \n",
       "2      3          2000                     45000   \n",
       "3      4          2000                     48000   \n",
       "4      5          2000                     40000   \n",
       "\n",
       "   Chit fund organizer commission  Net amount recd by Bid winner  \\\n",
       "0                            2500                          37500   \n",
       "1                            2500                          39500   \n",
       "2                            2500                          42500   \n",
       "3                            2500                          45500   \n",
       "4                            2500                          37500   \n",
       "\n",
       "   Amount returned to everyone in the group  Total Amount  \n",
       "0                                       400         37900  \n",
       "1                                       320         39820  \n",
       "2                                       200         42700  \n",
       "3                                        80         45580  \n",
       "4                                       400         37900  "
      ]
     },
     "execution_count": 25,
     "metadata": {},
     "output_type": "execute_result"
    }
   ],
   "source": [
    "df.head()"
   ]
  },
  {
   "cell_type": "code",
   "execution_count": 26,
   "metadata": {
    "id": "EP4XEOn4vziL"
   },
   "outputs": [],
   "source": [
    "df['Annual Return']=df['Total Amount']*(12/25)"
   ]
  },
  {
   "cell_type": "code",
   "execution_count": 27,
   "metadata": {
    "id": "IfnG6fpTvziL",
    "outputId": "46206542-e1de-45cd-8fb1-c25c073b4d90"
   },
   "outputs": [
    {
     "data": {
      "text/html": [
       "<div>\n",
       "<style scoped>\n",
       "    .dataframe tbody tr th:only-of-type {\n",
       "        vertical-align: middle;\n",
       "    }\n",
       "\n",
       "    .dataframe tbody tr th {\n",
       "        vertical-align: top;\n",
       "    }\n",
       "\n",
       "    .dataframe thead th {\n",
       "        text-align: right;\n",
       "    }\n",
       "</style>\n",
       "<table border=\"1\" class=\"dataframe\">\n",
       "  <thead>\n",
       "    <tr style=\"text-align: right;\">\n",
       "      <th></th>\n",
       "      <th>Month</th>\n",
       "      <th>Contribution</th>\n",
       "      <th>Amount won by the bidder</th>\n",
       "      <th>Chit fund organizer commission</th>\n",
       "      <th>Net amount recd by Bid winner</th>\n",
       "      <th>Amount returned to everyone in the group</th>\n",
       "      <th>Total Amount</th>\n",
       "      <th>Annual Return</th>\n",
       "    </tr>\n",
       "  </thead>\n",
       "  <tbody>\n",
       "    <tr>\n",
       "      <th>0</th>\n",
       "      <td>1</td>\n",
       "      <td>2000</td>\n",
       "      <td>40000</td>\n",
       "      <td>2500</td>\n",
       "      <td>37500</td>\n",
       "      <td>400</td>\n",
       "      <td>37900</td>\n",
       "      <td>18192.0</td>\n",
       "    </tr>\n",
       "    <tr>\n",
       "      <th>1</th>\n",
       "      <td>2</td>\n",
       "      <td>2000</td>\n",
       "      <td>42000</td>\n",
       "      <td>2500</td>\n",
       "      <td>39500</td>\n",
       "      <td>320</td>\n",
       "      <td>39820</td>\n",
       "      <td>19113.6</td>\n",
       "    </tr>\n",
       "    <tr>\n",
       "      <th>2</th>\n",
       "      <td>3</td>\n",
       "      <td>2000</td>\n",
       "      <td>45000</td>\n",
       "      <td>2500</td>\n",
       "      <td>42500</td>\n",
       "      <td>200</td>\n",
       "      <td>42700</td>\n",
       "      <td>20496.0</td>\n",
       "    </tr>\n",
       "    <tr>\n",
       "      <th>3</th>\n",
       "      <td>4</td>\n",
       "      <td>2000</td>\n",
       "      <td>48000</td>\n",
       "      <td>2500</td>\n",
       "      <td>45500</td>\n",
       "      <td>80</td>\n",
       "      <td>45580</td>\n",
       "      <td>21878.4</td>\n",
       "    </tr>\n",
       "    <tr>\n",
       "      <th>4</th>\n",
       "      <td>5</td>\n",
       "      <td>2000</td>\n",
       "      <td>40000</td>\n",
       "      <td>2500</td>\n",
       "      <td>37500</td>\n",
       "      <td>400</td>\n",
       "      <td>37900</td>\n",
       "      <td>18192.0</td>\n",
       "    </tr>\n",
       "  </tbody>\n",
       "</table>\n",
       "</div>"
      ],
      "text/plain": [
       "   Month  Contribution  Amount won by the bidder  \\\n",
       "0      1          2000                     40000   \n",
       "1      2          2000                     42000   \n",
       "2      3          2000                     45000   \n",
       "3      4          2000                     48000   \n",
       "4      5          2000                     40000   \n",
       "\n",
       "   Chit fund organizer commission  Net amount recd by Bid winner  \\\n",
       "0                            2500                          37500   \n",
       "1                            2500                          39500   \n",
       "2                            2500                          42500   \n",
       "3                            2500                          45500   \n",
       "4                            2500                          37500   \n",
       "\n",
       "   Amount returned to everyone in the group  Total Amount  Annual Return  \n",
       "0                                       400         37900        18192.0  \n",
       "1                                       320         39820        19113.6  \n",
       "2                                       200         42700        20496.0  \n",
       "3                                        80         45580        21878.4  \n",
       "4                                       400         37900        18192.0  "
      ]
     },
     "execution_count": 27,
     "metadata": {},
     "output_type": "execute_result"
    }
   ],
   "source": [
    "df.head()"
   ]
  },
  {
   "cell_type": "code",
   "execution_count": 28,
   "metadata": {
    "id": "LxmHr6ljvziM"
   },
   "outputs": [],
   "source": [
    "df['Return Percentage']=df['Total Amount']*(100/50000)"
   ]
  },
  {
   "cell_type": "code",
   "execution_count": 29,
   "metadata": {
    "id": "rbb8d1SNvziM",
    "outputId": "63c7475f-ef59-4c06-a711-6fabb265c9ed"
   },
   "outputs": [
    {
     "data": {
      "text/html": [
       "<div>\n",
       "<style scoped>\n",
       "    .dataframe tbody tr th:only-of-type {\n",
       "        vertical-align: middle;\n",
       "    }\n",
       "\n",
       "    .dataframe tbody tr th {\n",
       "        vertical-align: top;\n",
       "    }\n",
       "\n",
       "    .dataframe thead th {\n",
       "        text-align: right;\n",
       "    }\n",
       "</style>\n",
       "<table border=\"1\" class=\"dataframe\">\n",
       "  <thead>\n",
       "    <tr style=\"text-align: right;\">\n",
       "      <th></th>\n",
       "      <th>Month</th>\n",
       "      <th>Contribution</th>\n",
       "      <th>Amount won by the bidder</th>\n",
       "      <th>Chit fund organizer commission</th>\n",
       "      <th>Net amount recd by Bid winner</th>\n",
       "      <th>Amount returned to everyone in the group</th>\n",
       "      <th>Total Amount</th>\n",
       "      <th>Annual Return</th>\n",
       "      <th>Return Percentage</th>\n",
       "    </tr>\n",
       "  </thead>\n",
       "  <tbody>\n",
       "    <tr>\n",
       "      <th>0</th>\n",
       "      <td>1</td>\n",
       "      <td>2000</td>\n",
       "      <td>40000</td>\n",
       "      <td>2500</td>\n",
       "      <td>37500</td>\n",
       "      <td>400</td>\n",
       "      <td>37900</td>\n",
       "      <td>18192.0</td>\n",
       "      <td>75.80</td>\n",
       "    </tr>\n",
       "    <tr>\n",
       "      <th>1</th>\n",
       "      <td>2</td>\n",
       "      <td>2000</td>\n",
       "      <td>42000</td>\n",
       "      <td>2500</td>\n",
       "      <td>39500</td>\n",
       "      <td>320</td>\n",
       "      <td>39820</td>\n",
       "      <td>19113.6</td>\n",
       "      <td>79.64</td>\n",
       "    </tr>\n",
       "    <tr>\n",
       "      <th>2</th>\n",
       "      <td>3</td>\n",
       "      <td>2000</td>\n",
       "      <td>45000</td>\n",
       "      <td>2500</td>\n",
       "      <td>42500</td>\n",
       "      <td>200</td>\n",
       "      <td>42700</td>\n",
       "      <td>20496.0</td>\n",
       "      <td>85.40</td>\n",
       "    </tr>\n",
       "    <tr>\n",
       "      <th>3</th>\n",
       "      <td>4</td>\n",
       "      <td>2000</td>\n",
       "      <td>48000</td>\n",
       "      <td>2500</td>\n",
       "      <td>45500</td>\n",
       "      <td>80</td>\n",
       "      <td>45580</td>\n",
       "      <td>21878.4</td>\n",
       "      <td>91.16</td>\n",
       "    </tr>\n",
       "    <tr>\n",
       "      <th>4</th>\n",
       "      <td>5</td>\n",
       "      <td>2000</td>\n",
       "      <td>40000</td>\n",
       "      <td>2500</td>\n",
       "      <td>37500</td>\n",
       "      <td>400</td>\n",
       "      <td>37900</td>\n",
       "      <td>18192.0</td>\n",
       "      <td>75.80</td>\n",
       "    </tr>\n",
       "  </tbody>\n",
       "</table>\n",
       "</div>"
      ],
      "text/plain": [
       "   Month  Contribution  Amount won by the bidder  \\\n",
       "0      1          2000                     40000   \n",
       "1      2          2000                     42000   \n",
       "2      3          2000                     45000   \n",
       "3      4          2000                     48000   \n",
       "4      5          2000                     40000   \n",
       "\n",
       "   Chit fund organizer commission  Net amount recd by Bid winner  \\\n",
       "0                            2500                          37500   \n",
       "1                            2500                          39500   \n",
       "2                            2500                          42500   \n",
       "3                            2500                          45500   \n",
       "4                            2500                          37500   \n",
       "\n",
       "   Amount returned to everyone in the group  Total Amount  Annual Return  \\\n",
       "0                                       400         37900        18192.0   \n",
       "1                                       320         39820        19113.6   \n",
       "2                                       200         42700        20496.0   \n",
       "3                                        80         45580        21878.4   \n",
       "4                                       400         37900        18192.0   \n",
       "\n",
       "   Return Percentage  \n",
       "0              75.80  \n",
       "1              79.64  \n",
       "2              85.40  \n",
       "3              91.16  \n",
       "4              75.80  "
      ]
     },
     "execution_count": 29,
     "metadata": {},
     "output_type": "execute_result"
    }
   ],
   "source": [
    "df.head()"
   ]
  },
  {
   "cell_type": "markdown",
   "metadata": {
    "id": "nEJSb4SsvziM"
   },
   "source": [
    "### ***What is the Annualized  Return of the person who bids in the last month ?***\n",
    "### ***What is the Annualized Return of the person who bids in the first month ?***"
   ]
  },
  {
   "cell_type": "code",
   "execution_count": 31,
   "metadata": {
    "id": "ppcdxuacvziN",
    "outputId": "5e1a0a3f-c8c9-4860-ccf4-0ca695e397a2"
   },
   "outputs": [
    {
     "name": "stdout",
     "output_type": "stream",
     "text": [
      "Annual  Return bids in the last month is: 22800.0\n",
      "Annual Return  bids in the first month is: 18192.0\n"
     ]
    }
   ],
   "source": [
    "print('Annual  Return bids in the last month is: {}'.format(list(df['Annual Return'])[-1]))\n",
    "print('Annual Return  bids in the first month is: {}'.format(list(df['Annual Return'])[0]))"
   ]
  },
  {
   "cell_type": "markdown",
   "metadata": {
    "id": "BlYf6_UKvziN"
   },
   "source": [
    "### ***Show the Return % for each month's bid winner.***"
   ]
  },
  {
   "cell_type": "code",
   "execution_count": 32,
   "metadata": {
    "id": "pK98loJVvziN",
    "outputId": "795be665-7eb4-41e7-ab97-e266719265f3"
   },
   "outputs": [
    {
     "data": {
      "text/plain": [
       "0     75.80\n",
       "1     79.64\n",
       "2     85.40\n",
       "3     91.16\n",
       "4     75.80\n",
       "5     79.64\n",
       "6     81.56\n",
       "7     83.48\n",
       "8     75.80\n",
       "9     79.64\n",
       "10    85.40\n",
       "11    91.16\n",
       "12    75.80\n",
       "13    79.64\n",
       "14    81.56\n",
       "15    81.56\n",
       "16    77.72\n",
       "17    79.64\n",
       "18    85.40\n",
       "19    85.40\n",
       "20    83.48\n",
       "21    87.32\n",
       "22    89.24\n",
       "23    91.16\n",
       "24    95.00\n",
       "Name: Return Percentage, dtype: float64"
      ]
     },
     "execution_count": 32,
     "metadata": {},
     "output_type": "execute_result"
    }
   ],
   "source": [
    "df['Return Percentage'].head(25)"
   ]
  },
  {
   "cell_type": "code",
   "execution_count": 33,
   "metadata": {},
   "outputs": [
    {
     "data": {
      "text/plain": [
       "<seaborn.axisgrid.PairGrid at 0x23f35453670>"
      ]
     },
     "execution_count": 33,
     "metadata": {},
     "output_type": "execute_result"
    },
    {
     "data": {
      "image/png": "[encoded data removed]",
      "text/plain": [
       "<Figure size 1620x1620 with 90 Axes>"
      ]
     },
     "metadata": {
      "needs_background": "light"
     },
     "output_type": "display_data"
    }
   ],
   "source": [
    "sns.pairplot(df)"
   ]
  },
  {
   "cell_type": "markdown",
   "metadata": {
    "id": "LT_ag1lgvziN"
   },
   "source": [
    "## ***THANK YOU!!***"
   ]
  }
 ],
 "metadata": {
  "colab": {
   "name": "Chit Fund.ipynb",
   "provenance": []
  },
  "kernelspec": {
   "display_name": "Python 3",
   "language": "python",
   "name": "python3"
  },
  "language_info": {
   "codemirror_mode": {
    "name": "ipython",
    "version": 3
   },
   "file_extension": ".py",
   "mimetype": "text/x-python",
   "name": "python",
   "nbconvert_exporter": "python",
   "pygments_lexer": "ipython3",
   "version": "3.8.1"
  }
 },
 "nbformat": 4,
 "nbformat_minor": 1
}
